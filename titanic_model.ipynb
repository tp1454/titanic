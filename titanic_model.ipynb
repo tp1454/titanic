{
 "cells": [
  {
   "cell_type": "markdown",
   "id": "be0d2261",
   "metadata": {},
   "source": [
    "# 🌊 Titanic Survival Prediction — Decision Tree Classifier\n",
    "\n",
    "Mục tiêu của phần này:\n",
    "- Xây dựng mô hình **Decision Tree** để dự đoán khả năng sống sót của hành khách trên tàu Titanic.\n",
    "- Phân tích, trực quan hoá, và đánh giá độ chính xác của mô hình.\n",
    "\n",
    "Nguồn dữ liệu:\n",
    "- Dữ liệu đã được tiền xử lý từ `titanic_preprocessing.ipynb`.\n",
    "- Bao gồm các bước:\n",
    "  - Xử lý missing values.\n",
    "  - Tạo đặc trưng mới: `FamilySize`, `IsAlone`, `AgeBin`, `FareBand`, `TicketPrefix`.\n",
    "  - Mã hoá và chuẩn hoá sẵn sàng cho huấn luyện.\n",
    "\n",
    "File sử dụng: **`data/processed/titanic_train_preprocessed.csv`**"
   ]
  },
  {
   "cell_type": "code",
   "execution_count": 1,
   "id": "f3e7033f",
   "metadata": {},
   "outputs": [],
   "source": [
    "# 0️⃣ Environment Setup\n",
    "import os, random, joblib\n",
    "import numpy as np, pandas as pd\n",
    "import matplotlib.pyplot as plt\n",
    "import seaborn as sns\n",
    "from sklearn.model_selection import train_test_split\n",
    "from sklearn.tree import DecisionTreeClassifier, plot_tree\n",
    "from sklearn.metrics import accuracy_score, classification_report, confusion_matrix, roc_curve, auc\n",
    "\n",
    "# Thiết lập môi trường tái lập\n",
    "SEED = 42\n",
    "random.seed(SEED)\n",
    "np.random.seed(SEED)\n",
    "\n",
    "os.makedirs(\"models\", exist_ok=True)\n",
    "os.makedirs(\"data/pic\", exist_ok=True)"
   ]
  },
  {
   "cell_type": "code",
   "execution_count": 2,
   "id": "664e4eb8",
   "metadata": {},
   "outputs": [
    {
     "name": "stdout",
     "output_type": "stream",
     "text": [
      "✅ Dữ liệu đã được load thành công: (891, 13)\n"
     ]
    },
    {
     "data": {
      "text/html": [
       "<div>\n",
       "<style scoped>\n",
       "    .dataframe tbody tr th:only-of-type {\n",
       "        vertical-align: middle;\n",
       "    }\n",
       "\n",
       "    .dataframe tbody tr th {\n",
       "        vertical-align: top;\n",
       "    }\n",
       "\n",
       "    .dataframe thead th {\n",
       "        text-align: right;\n",
       "    }\n",
       "</style>\n",
       "<table border=\"1\" class=\"dataframe\">\n",
       "  <thead>\n",
       "    <tr style=\"text-align: right;\">\n",
       "      <th></th>\n",
       "      <th>Survived</th>\n",
       "      <th>Pclass</th>\n",
       "      <th>Sex</th>\n",
       "      <th>Age</th>\n",
       "      <th>SibSp</th>\n",
       "      <th>Parch</th>\n",
       "      <th>Fare</th>\n",
       "      <th>Embarked</th>\n",
       "      <th>FamilySize</th>\n",
       "      <th>IsAlone</th>\n",
       "      <th>Title</th>\n",
       "      <th>AgeBin</th>\n",
       "      <th>FareBand</th>\n",
       "    </tr>\n",
       "  </thead>\n",
       "  <tbody>\n",
       "    <tr>\n",
       "      <th>0</th>\n",
       "      <td>0</td>\n",
       "      <td>3</td>\n",
       "      <td>1</td>\n",
       "      <td>-0.533834</td>\n",
       "      <td>1</td>\n",
       "      <td>0</td>\n",
       "      <td>-0.502445</td>\n",
       "      <td>2</td>\n",
       "      <td>0.059160</td>\n",
       "      <td>0</td>\n",
       "      <td>0</td>\n",
       "      <td>0</td>\n",
       "      <td>0</td>\n",
       "    </tr>\n",
       "    <tr>\n",
       "      <th>1</th>\n",
       "      <td>1</td>\n",
       "      <td>1</td>\n",
       "      <td>0</td>\n",
       "      <td>0.674891</td>\n",
       "      <td>1</td>\n",
       "      <td>0</td>\n",
       "      <td>0.786845</td>\n",
       "      <td>0</td>\n",
       "      <td>0.059160</td>\n",
       "      <td>0</td>\n",
       "      <td>0</td>\n",
       "      <td>0</td>\n",
       "      <td>3</td>\n",
       "    </tr>\n",
       "    <tr>\n",
       "      <th>2</th>\n",
       "      <td>1</td>\n",
       "      <td>3</td>\n",
       "      <td>0</td>\n",
       "      <td>-0.231653</td>\n",
       "      <td>0</td>\n",
       "      <td>0</td>\n",
       "      <td>-0.488854</td>\n",
       "      <td>2</td>\n",
       "      <td>-0.560975</td>\n",
       "      <td>1</td>\n",
       "      <td>0</td>\n",
       "      <td>0</td>\n",
       "      <td>1</td>\n",
       "    </tr>\n",
       "    <tr>\n",
       "      <th>3</th>\n",
       "      <td>1</td>\n",
       "      <td>1</td>\n",
       "      <td>0</td>\n",
       "      <td>0.448255</td>\n",
       "      <td>1</td>\n",
       "      <td>0</td>\n",
       "      <td>0.420730</td>\n",
       "      <td>2</td>\n",
       "      <td>0.059160</td>\n",
       "      <td>0</td>\n",
       "      <td>0</td>\n",
       "      <td>0</td>\n",
       "      <td>3</td>\n",
       "    </tr>\n",
       "    <tr>\n",
       "      <th>4</th>\n",
       "      <td>0</td>\n",
       "      <td>3</td>\n",
       "      <td>1</td>\n",
       "      <td>0.448255</td>\n",
       "      <td>0</td>\n",
       "      <td>0</td>\n",
       "      <td>-0.486337</td>\n",
       "      <td>2</td>\n",
       "      <td>-0.560975</td>\n",
       "      <td>1</td>\n",
       "      <td>0</td>\n",
       "      <td>0</td>\n",
       "      <td>1</td>\n",
       "    </tr>\n",
       "  </tbody>\n",
       "</table>\n",
       "</div>"
      ],
      "text/plain": [
       "   Survived  Pclass  Sex       Age  SibSp  Parch      Fare  Embarked  \\\n",
       "0         0       3    1 -0.533834      1      0 -0.502445         2   \n",
       "1         1       1    0  0.674891      1      0  0.786845         0   \n",
       "2         1       3    0 -0.231653      0      0 -0.488854         2   \n",
       "3         1       1    0  0.448255      1      0  0.420730         2   \n",
       "4         0       3    1  0.448255      0      0 -0.486337         2   \n",
       "\n",
       "   FamilySize  IsAlone  Title  AgeBin  FareBand  \n",
       "0    0.059160        0      0       0         0  \n",
       "1    0.059160        0      0       0         3  \n",
       "2   -0.560975        1      0       0         1  \n",
       "3    0.059160        0      0       0         3  \n",
       "4   -0.560975        1      0       0         1  "
      ]
     },
     "metadata": {},
     "output_type": "display_data"
    }
   ],
   "source": [
    "# 1️⃣ Load dữ liệu đã tiền xử lý\n",
    "DATA_PATH = \"data/processed/titanic_train_preprocessed.csv\"\n",
    "df = pd.read_csv(DATA_PATH)\n",
    "\n",
    "print(\"✅ Dữ liệu đã được load thành công:\", df.shape)\n",
    "display(df.head())"
   ]
  },
  {
   "cell_type": "markdown",
   "id": "cf4663e2",
   "metadata": {},
   "source": [
    "## 2️⃣ Phân bố dữ liệu mục tiêu (Survived)\n",
    "\n",
    "Ta sẽ trực quan hóa tỷ lệ giữa hai nhóm:\n",
    "- **0** = Không sống sót  \n",
    "- **1** = Sống sót  \n",
    "\n",
    "Điều này giúp kiểm tra xem dữ liệu có bị **mất cân bằng lớp (class imbalance)** hay không."
   ]
  },
  {
   "cell_type": "code",
   "execution_count": 3,
   "id": "a9bb5578",
   "metadata": {},
   "outputs": [
    {
     "name": "stderr",
     "output_type": "stream",
     "text": [
      "C:\\Users\\HOME\\AppData\\Local\\Temp\\ipykernel_21224\\2264491406.py:2: FutureWarning: \n",
      "\n",
      "Passing `palette` without assigning `hue` is deprecated and will be removed in v0.14.0. Assign the `x` variable to `hue` and set `legend=False` for the same effect.\n",
      "\n",
      "  sns.countplot(x='Survived', data=df, palette='coolwarm')\n"
     ]
    },
    {
     "data": {
      "image/png": "[encoded data removed]",
      "text/plain": [
       "<Figure size 500x400 with 1 Axes>"
      ]
     },
     "metadata": {},
     "output_type": "display_data"
    }
   ],
   "source": [
    "plt.figure(figsize=(5,4))\n",
    "sns.countplot(x='Survived', data=df, palette='coolwarm')\n",
    "plt.title(\"Tỉ lệ sống sót của hành khách\", fontsize=13, fontweight='bold')\n",
    "plt.xlabel(\"Survived (0 = Không, 1 = Có)\")\n",
    "plt.ylabel(\"Số lượng\")\n",
    "plt.tight_layout()\n",
    "plt.show()"
   ]
  },
  {
   "cell_type": "markdown",
   "id": "e9de0650",
   "metadata": {},
   "source": [
    "## 3️⃣ Chia dữ liệu huấn luyện và kiểm thử\n",
    "\n",
    "- Chia dữ liệu thành:\n",
    "  - **80%** cho tập huấn luyện.\n",
    "  - **20%** cho tập kiểm thử.\n",
    "- Sử dụng `stratify=y` để giữ nguyên tỷ lệ số người sống sót/không sống sót giữa hai tập.\n",
    "- Biến mục tiêu: `Survived`."
   ]
  },
  {
   "cell_type": "code",
   "execution_count": 4,
   "id": "0c42a397",
   "metadata": {},
   "outputs": [
    {
     "name": "stdout",
     "output_type": "stream",
     "text": [
      "Train: (712, 12) | Validation: (179, 12)\n"
     ]
    }
   ],
   "source": [
    "X = df.drop(columns=['Survived'])\n",
    "y = df['Survived']\n",
    "\n",
    "X_train, X_val, y_train, y_val = train_test_split(\n",
    "    X, y, test_size=0.2, random_state=SEED, stratify=y\n",
    ")\n",
    "\n",
    "print(f\"Train: {X_train.shape} | Validation: {X_val.shape}\")"
   ]
  },
  {
   "cell_type": "markdown",
   "id": "22e988d8",
   "metadata": {},
   "source": [
    "## 4️⃣ Huấn luyện mô hình Decision Tree\n",
    "\n",
    "Ta huấn luyện hai mô hình Decision Tree với tiêu chí khác nhau:\n",
    "- **Gini impurity**: đo mức độ không thuần của node.\n",
    "- **Entropy**: dựa trên khái niệm thông tin (Information Gain).\n",
    "\n",
    "Sau đó, ta so sánh độ chính xác giữa hai mô hình và chọn mô hình tốt hơn."
   ]
  },
  {
   "cell_type": "code",
   "execution_count": 5,
   "id": "d8e2279f",
   "metadata": {},
   "outputs": [
    {
     "name": "stdout",
     "output_type": "stream",
     "text": [
      "🔍 So sánh độ chính xác giữa hai tiêu chí:\n"
     ]
    },
    {
     "data": {
      "text/html": [
       "<div>\n",
       "<style scoped>\n",
       "    .dataframe tbody tr th:only-of-type {\n",
       "        vertical-align: middle;\n",
       "    }\n",
       "\n",
       "    .dataframe tbody tr th {\n",
       "        vertical-align: top;\n",
       "    }\n",
       "\n",
       "    .dataframe thead th {\n",
       "        text-align: right;\n",
       "    }\n",
       "</style>\n",
       "<table border=\"1\" class=\"dataframe\">\n",
       "  <thead>\n",
       "    <tr style=\"text-align: right;\">\n",
       "      <th></th>\n",
       "      <th>Criterion</th>\n",
       "      <th>Accuracy</th>\n",
       "    </tr>\n",
       "  </thead>\n",
       "  <tbody>\n",
       "    <tr>\n",
       "      <th>0</th>\n",
       "      <td>Gini</td>\n",
       "      <td>0.776536</td>\n",
       "    </tr>\n",
       "    <tr>\n",
       "      <th>1</th>\n",
       "      <td>Entropy</td>\n",
       "      <td>0.776536</td>\n",
       "    </tr>\n",
       "  </tbody>\n",
       "</table>\n",
       "</div>"
      ],
      "text/plain": [
       "  Criterion  Accuracy\n",
       "0      Gini  0.776536\n",
       "1   Entropy  0.776536"
      ]
     },
     "metadata": {},
     "output_type": "display_data"
    },
    {
     "name": "stdout",
     "output_type": "stream",
     "text": [
      "🌲 Mô hình được chọn: Gini\n"
     ]
    }
   ],
   "source": [
    "models = {\n",
    "    'Gini': DecisionTreeClassifier(criterion='gini', max_depth=5, min_samples_split=5, random_state=SEED),\n",
    "    'Entropy': DecisionTreeClassifier(criterion='entropy', max_depth=5, min_samples_split=5, random_state=SEED)\n",
    "}\n",
    "\n",
    "results = {}\n",
    "for name, model in models.items():\n",
    "    model.fit(X_train, y_train)\n",
    "    y_pred = model.predict(X_val)\n",
    "    results[name] = accuracy_score(y_val, y_pred)\n",
    "\n",
    "res_df = pd.DataFrame(list(results.items()), columns=['Criterion', 'Accuracy'])\n",
    "print(\"🔍 So sánh độ chính xác giữa hai tiêu chí:\")\n",
    "display(res_df)\n",
    "\n",
    "best_criterion = res_df.loc[res_df['Accuracy'].idxmax(), 'Criterion']\n",
    "dt = models[best_criterion]\n",
    "print(f\"🌲 Mô hình được chọn: {best_criterion}\")"
   ]
  },
  {
   "cell_type": "markdown",
   "id": "9118a85e",
   "metadata": {},
   "source": [
    "## 5️⃣ Đánh giá hiệu suất mô hình\n",
    "\n",
    "- Tính **Accuracy** và **Classification Report** (Precision, Recall, F1-score).\n",
    "- Hiển thị **Confusion Matrix** để thấy mô hình phân loại đúng/sai ở mức nào."
   ]
  },
  {
   "cell_type": "code",
   "execution_count": 6,
   "id": "3879c9bc",
   "metadata": {},
   "outputs": [
    {
     "name": "stdout",
     "output_type": "stream",
     "text": [
      "🎯 Accuracy: 0.7765\n",
      "\n",
      "📊 Classification Report:\n",
      "              precision    recall  f1-score   support\n",
      "\n",
      "           0       0.80      0.85      0.82       110\n",
      "           1       0.74      0.65      0.69        69\n",
      "\n",
      "    accuracy                           0.78       179\n",
      "   macro avg       0.77      0.75      0.76       179\n",
      "weighted avg       0.77      0.78      0.77       179\n",
      "\n"
     ]
    },
    {
     "data": {
      "image/png": "[encoded data removed]",
      "text/plain": [
       "<Figure size 600x400 with 1 Axes>"
      ]
     },
     "metadata": {},
     "output_type": "display_data"
    }
   ],
   "source": [
    "y_pred = dt.predict(X_val)\n",
    "y_proba = dt.predict_proba(X_val)[:,1]\n",
    "\n",
    "acc = accuracy_score(y_val, y_pred)\n",
    "print(f\"🎯 Accuracy: {acc:.4f}\")\n",
    "print(\"\\n📊 Classification Report:\")\n",
    "print(classification_report(y_val, y_pred))\n",
    "\n",
    "cm = confusion_matrix(y_val, y_pred)\n",
    "plt.figure(figsize=(6,4))\n",
    "sns.heatmap(cm, annot=True, fmt='d', cmap='Blues', cbar=False)\n",
    "plt.title(\"Confusion Matrix - Decision Tree\")\n",
    "plt.xlabel(\"Predicted\")\n",
    "plt.ylabel(\"Actual\")\n",
    "plt.tight_layout()\n",
    "plt.savefig(\"data/pic/confusion_matrix_decision_tree.png\", dpi=300)\n",
    "plt.show()"
   ]
  },
  {
   "cell_type": "markdown",
   "id": "791ab2d0",
   "metadata": {},
   "source": [
    "## 6️⃣ ROC Curve & AUC\n",
    "\n",
    "Đường cong ROC biểu diễn khả năng phân biệt giữa hai lớp của mô hình.  \n",
    "Giá trị **AUC (Area Under Curve)** càng cao → mô hình càng tốt."
   ]
  },
  {
   "cell_type": "code",
   "execution_count": 7,
   "id": "4a1a1dfe",
   "metadata": {},
   "outputs": [
    {
     "data": {
      "image/png": "[encoded data removed]",
      "text/plain": [
       "<Figure size 600x500 with 1 Axes>"
      ]
     },
     "metadata": {},
     "output_type": "display_data"
    }
   ],
   "source": [
    "fpr, tpr, _ = roc_curve(y_val, y_proba)\n",
    "roc_auc = auc(fpr, tpr)\n",
    "\n",
    "plt.figure(figsize=(6,5))\n",
    "plt.plot(fpr, tpr, color='darkorange', lw=2, label=f'AUC = {roc_auc:.2f}')\n",
    "plt.plot([0,1],[0,1],'--',color='gray')\n",
    "plt.title(\"ROC Curve - Decision Tree\")\n",
    "plt.xlabel(\"False Positive Rate\")\n",
    "plt.ylabel(\"True Positive Rate\")\n",
    "plt.legend(loc='lower right')\n",
    "plt.tight_layout()\n",
    "plt.savefig(\"data/pic/roc_curve_decision_tree.png\", dpi=300)\n",
    "plt.show()"
   ]
  },
  {
   "cell_type": "markdown",
   "id": "8accff04",
   "metadata": {},
   "source": [
    "## 7️⃣ Cấu trúc cây quyết định\n",
    "\n",
    "Hình dưới đây mô tả cách cây phân nhánh và đưa ra quyết định sống sót dựa trên các đặc trưng."
   ]
  },
  {
   "cell_type": "code",
   "execution_count": null,
   "id": "7160a337",
   "metadata": {},
   "outputs": [],
   "source": [
    "plt.figure(figsize=(22,10))\n",
    "plot_tree(\n",
    "    dt,\n",
    "    feature_names=X.columns,\n",
    "    class_names=['Không sống sót', 'Sống sót'],\n",
    "    filled=True, rounded=True, fontsize=9\n",
    ")\n",
    "plt.title(\"Cấu trúc cây quyết định - Titanic\", fontsize=13, fontweight='bold')\n",
    "plt.tight_layout()\n",
    "plt.savefig(\"data/pic/decision_tree_structure.png\", dpi=300)\n",
    "plt.show()"
   ]
  },
  {
   "cell_type": "markdown",
   "id": "68444998",
   "metadata": {},
   "source": [
    "## 8️⃣ Độ quan trọng của đặc trưng (Feature Importance)\n",
    "\n",
    "Ta có thể thấy yếu tố nào ảnh hưởng nhiều nhất đến khả năng sống sót:\n",
    "- Giới tính (`Sex`) gần như là yếu tố mạnh nhất.\n",
    "- Tiếp theo là `Pclass`, `Age`, và `Fare`."
   ]
  },
  {
   "cell_type": "code",
   "execution_count": null,
   "id": "babec8a2",
   "metadata": {},
   "outputs": [
    {
     "name": "stderr",
     "output_type": "stream",
     "text": [
      "C:\\Users\\HOME\\AppData\\Local\\Temp\\ipykernel_3392\\1917238547.py:7: FutureWarning: \n",
      "\n",
      "Passing `palette` without assigning `hue` is deprecated and will be removed in v0.14.0. Assign the `y` variable to `hue` and set `legend=False` for the same effect.\n",
      "\n",
      "  sns.barplot(\n",
      "C:\\Users\\HOME\\AppData\\Local\\Temp\\ipykernel_3392\\1917238547.py:12: UserWarning: Glyph 128202 (\\N{BAR CHART}) missing from font(s) DejaVu Sans.\n",
      "  plt.tight_layout()\n",
      "C:\\Users\\HOME\\AppData\\Local\\Temp\\ipykernel_3392\\1917238547.py:13: UserWarning: Glyph 128202 (\\N{BAR CHART}) missing from font(s) DejaVu Sans.\n",
      "  plt.savefig(\"data/pic/feature_importance_decision_tree.png\", dpi=300)\n",
      "C:\\Users\\HOME\\AppData\\Local\\Packages\\PythonSoftwareFoundation.Python.3.11_qbz5n2kfra8p0\\LocalCache\\local-packages\\Python311\\site-packages\\IPython\\core\\pylabtools.py:170: UserWarning: Glyph 128202 (\\N{BAR CHART}) missing from font(s) DejaVu Sans.\n",
      "  fig.canvas.print_figure(bytes_io, **kw)\n"
     ]
    },
    {
     "data": {
      "image/png": "[encoded data removed]",
      "text/plain": [
       "<Figure size 900x500 with 1 Axes>"
      ]
     },
     "metadata": {},
     "output_type": "display_data"
    },
    {
     "data": {
      "text/html": [
       "<div>\n",
       "<style scoped>\n",
       "    .dataframe tbody tr th:only-of-type {\n",
       "        vertical-align: middle;\n",
       "    }\n",
       "\n",
       "    .dataframe tbody tr th {\n",
       "        vertical-align: top;\n",
       "    }\n",
       "\n",
       "    .dataframe thead th {\n",
       "        text-align: right;\n",
       "    }\n",
       "</style>\n",
       "<table border=\"1\" class=\"dataframe\">\n",
       "  <thead>\n",
       "    <tr style=\"text-align: right;\">\n",
       "      <th></th>\n",
       "      <th>Feature</th>\n",
       "      <th>Importance</th>\n",
       "    </tr>\n",
       "  </thead>\n",
       "  <tbody>\n",
       "    <tr>\n",
       "      <th>1</th>\n",
       "      <td>Sex</td>\n",
       "      <td>0.541488</td>\n",
       "    </tr>\n",
       "    <tr>\n",
       "      <th>0</th>\n",
       "      <td>Pclass</td>\n",
       "      <td>0.184087</td>\n",
       "    </tr>\n",
       "    <tr>\n",
       "      <th>5</th>\n",
       "      <td>Fare</td>\n",
       "      <td>0.109166</td>\n",
       "    </tr>\n",
       "    <tr>\n",
       "      <th>2</th>\n",
       "      <td>Age</td>\n",
       "      <td>0.106198</td>\n",
       "    </tr>\n",
       "    <tr>\n",
       "      <th>7</th>\n",
       "      <td>FamilySize</td>\n",
       "      <td>0.050727</td>\n",
       "    </tr>\n",
       "    <tr>\n",
       "      <th>11</th>\n",
       "      <td>FareBand</td>\n",
       "      <td>0.008335</td>\n",
       "    </tr>\n",
       "    <tr>\n",
       "      <th>3</th>\n",
       "      <td>SibSp</td>\n",
       "      <td>0.000000</td>\n",
       "    </tr>\n",
       "    <tr>\n",
       "      <th>4</th>\n",
       "      <td>Parch</td>\n",
       "      <td>0.000000</td>\n",
       "    </tr>\n",
       "    <tr>\n",
       "      <th>6</th>\n",
       "      <td>Embarked</td>\n",
       "      <td>0.000000</td>\n",
       "    </tr>\n",
       "    <tr>\n",
       "      <th>8</th>\n",
       "      <td>IsAlone</td>\n",
       "      <td>0.000000</td>\n",
       "    </tr>\n",
       "  </tbody>\n",
       "</table>\n",
       "</div>"
      ],
      "text/plain": [
       "       Feature  Importance\n",
       "1          Sex    0.541488\n",
       "0       Pclass    0.184087\n",
       "5         Fare    0.109166\n",
       "2          Age    0.106198\n",
       "7   FamilySize    0.050727\n",
       "11    FareBand    0.008335\n",
       "3        SibSp    0.000000\n",
       "4        Parch    0.000000\n",
       "6     Embarked    0.000000\n",
       "8      IsAlone    0.000000"
      ]
     },
     "metadata": {},
     "output_type": "display_data"
    }
   ],
   "source": [
    "feat_imp = pd.DataFrame({\n",
    "    'Feature': X.columns,\n",
    "    'Importance': dt.feature_importances_\n",
    "}).sort_values(by='Importance', ascending=False)\n",
    "\n",
    "plt.figure(figsize=(9,5))\n",
    "sns.barplot(\n",
    "    data=feat_imp.sort_values('Importance', ascending=True),\n",
    "    x='Importance', y='Feature', palette='crest'\n",
    ")\n",
    "plt.title(\"📊 Độ quan trọng của các đặc trưng (Feature Importance)\", fontsize=13, fontweight='bold')\n",
    "plt.tight_layout()\n",
    "plt.savefig(\"data/pic/feature_importance_decision_tree.png\", dpi=300)\n",
    "plt.show()\n",
    "\n",
    "display(feat_imp.head(10))"
   ]
  },
  {
   "cell_type": "markdown",
   "id": "9bb73ae3",
   "metadata": {},
   "source": [
    "## 9️⃣ Lưu mô hình huấn luyện và tổng kết kết quả"
   ]
  },
  {
   "cell_type": "code",
   "execution_count": null,
   "id": "6bbe871d",
   "metadata": {},
   "outputs": [
    {
     "name": "stdout",
     "output_type": "stream",
     "text": [
      "\n",
      "✅ Model: Decision Tree Classifier (Gini)\n",
      "📊 Accuracy: 0.7765\n",
      "💾 Saved at: models/decision_tree_titanic.pkl\n",
      "🖼️ Figures saved:\n",
      "    - data/pic/confusion_matrix_decision_tree.png\n",
      "    - data/pic/roc_curve_decision_tree.png\n",
      "    - data/pic/decision_tree_structure.png\n",
      "    - data/pic/feature_importance_decision_tree.png\n",
      "\n"
     ]
    }
   ],
   "source": [
    "joblib.dump(dt, \"models/decision_tree_titanic.pkl\")\n",
    "\n",
    "print(f\"\"\"\n",
    "✅ Model: Decision Tree Classifier ({best_criterion})\n",
    "📊 Accuracy: {acc:.4f}\n",
    "💾 Saved at: models/decision_tree_titanic.pkl\n",
    "🖼️ Figures saved:\n",
    "    - data/pic/confusion_matrix_decision_tree.png\n",
    "    - data/pic/roc_curve_decision_tree.png\n",
    "    - data/pic/decision_tree_structure.png\n",
    "    - data/pic/feature_importance_decision_tree.png\n",
    "\"\"\")"
   ]
  },
  {
   "cell_type": "markdown",
   "id": "5dc899d1",
   "metadata": {},
   "source": [
    "## 🧭 Tổng kết & Nhận xét\n",
    "\n",
    "### 🎯 Hiệu suất\n",
    "- Mô hình **Decision Tree** đạt độ chính xác khoảng **0.78–0.80** trên tập validation.\n",
    "- **AUC ~ 0.83**, cho thấy khả năng phân biệt khá tốt giữa hai nhóm.\n",
    "\n",
    "### 🔍 Đặc trưng quan trọng\n",
    "- **Sex**: yếu tố mạnh nhất (phụ nữ có tỉ lệ sống cao hơn).\n",
    "- **Pclass** & **Fare**: thể hiện tầng lớp xã hội (vé hạng cao → vị trí an toàn hơn).\n",
    "- **Age**: trẻ em thường được ưu tiên cứu.\n",
    "- **FamilySize / IsAlone**: ảnh hưởng nhỏ nhưng thể hiện yếu tố tâm lý xã hội.\n",
    "\n",
    "### ⚖️ Ưu điểm\n",
    "- Mô hình dễ hiểu, dễ giải thích, có thể vẽ cây trực quan.\n",
    "- Phù hợp cho bài toán giáo dục hoặc môi trường cần minh bạch (Explainable AI).\n",
    "\n",
    "### ⚠️ Hạn chế\n",
    "- Dễ bị overfitting khi cây quá sâu.\n",
    "- Nhạy với nhiễu dữ liệu và giá trị thiếu.\n",
    "\n",
    "### 🚀 Hướng mở rộng\n",
    "- Dùng **Random Forest** hoặc **Gradient Boosting** để cải thiện độ chính xác.\n",
    "- Áp dụng **GridSearchCV** để tối ưu tham số (`max_depth`, `min_samples_split`, ...).\n",
    "- Dùng **SHAP** hoặc **LIME** để giải thích tác động từng biến đến dự đoán."
   ]
  }
 ],
 "metadata": {
  "kernelspec": {
   "display_name": "Python 3",
   "language": "python",
   "name": "python3"
  },
  "language_info": {
   "codemirror_mode": {
    "name": "ipython",
    "version": 3
   },
   "file_extension": ".py",
   "mimetype": "text/x-python",
   "name": "python",
   "nbconvert_exporter": "python",
   "pygments_lexer": "ipython3",
   "version": "3.11.9"
  }
 },
 "nbformat": 4,
 "nbformat_minor": 5
}
